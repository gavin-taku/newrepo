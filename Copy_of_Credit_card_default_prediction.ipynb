{
 "cells": [
  {
   "cell_type": "markdown",
   "metadata": {
    "colab_type": "text",
    "id": "D3kmML4F5EAG"
   },
   "source": [
    "**Data description**\n",
    "\n",
    "There are 25 variables:\n",
    "\n",
    "1. ID: ID of each client\n",
    "2. LIMIT_BAL: Amount of given credit in dollars (includes individual and family/supplementary credit\n",
    "3. SEX: Gender (1=male, 2=female)\n",
    "4. EDUCATION: (1=graduate school, 2=university, 3=high school, 4=others, 5=unknown, 6=unknown)\n",
    "5. MARRIAGE: Marital status (1=married, 2=single, 3=others)\n",
    "6. AGE: Age in years\n",
    "7. PAY_0: Repayment status in September, 2005 (-1=pay duly, 1=payment delay for one month, 2=payment delay for two months, ... 8=payment delay for eight months, 9=payment delay for nine months and above)\n",
    "8. PAY_2: Repayment status in August, 2005 (scale same as above)\n",
    "9. PAY_3: Repayment status in July, 2005 (scale same as above)\n",
    "10. PAY_4: Repayment status in June, 2005 (scale same as above)\n",
    "11. PAY_5: Repayment status in May, 2005 (scale same as above)\n",
    "12. PAY_6: Repayment status in April, 2005 (scale same as above)\n",
    "13. BILL_AMT1: Amount of bill statement in September, 2005\n",
    "14. BILL_AMT2: Amount of bill statement in August, 2005\n",
    "15. BILL_AMT3: Amount of bill statement in July, 2005\n",
    "16. BILL_AMT4: Amount of bill statement in June, 2005\n",
    "17. BILL_AMT5: Amount of bill statement in May, 2005\n",
    "18. BILL_AMT6: Amount of bill statement in April, 2005\n",
    "19. PAY_AMT1: Amount of previous payment in September, 2005\n",
    "20. PAY_AMT2: Amount of previous payment in August, 2005 \n",
    "21. PAY_AMT3: Amount of previous payment in July, 2005 \n",
    "22. PAY_AMT4: Amount of previous payment in June, 2005 \n",
    "23. PAY_AMT5: Amount of previous payment in May, 2005\n",
    "24. PAY_AMT6: Amount of previous payment in April, 2005\n",
    "25. default.payment.next.month: Default payment (1=yes, 0=no)"
   ]
  },
  {
   "cell_type": "markdown",
   "metadata": {
    "colab_type": "text",
    "id": "izvk7Box2h0P"
   },
   "source": [
    "# Reading the dataset"
   ]
  },
  {
   "cell_type": "markdown",
   "metadata": {
    "colab_type": "text",
    "id": "n0IBKm1F29iG"
   },
   "source": [
    "**Importing the libraries**"
   ]
  },
  {
   "cell_type": "code",
   "execution_count": 40,
   "metadata": {
    "colab": {},
    "colab_type": "code",
    "id": "O4Xe2Jeq2byx",
    "vscode": {
     "languageId": "python"
    }
   },
   "outputs": [],
   "source": [
    "import pandas as pd\n",
    "import numpy as np\n",
    "import matplotlib\n",
    "import matplotlib.pyplot as plt\n",
    "import seaborn as sns\n",
    "%matplotlib inline\n",
    "import warnings\n",
    "import pickle\n",
    "warnings.filterwarnings(\"ignore\")\n",
    "\n",
    "# Machine learning libraries\n",
    "import gc\n",
    "from datetime import datetime \n",
    "from sklearn.model_selection import train_test_split\n",
    "from sklearn.model_selection import KFold\n",
    "from sklearn.metrics import roc_auc_score\n",
    "from sklearn.ensemble import RandomForestClassifier\n",
    "from sklearn.ensemble import AdaBoostClassifier\n",
    "import lightgbm as lgb"
   ]
  },
  {
   "cell_type": "markdown",
   "metadata": {
    "colab_type": "text",
    "id": "sHZVLDSw35hL"
   },
   "source": [
    "**Loading the data**"
   ]
  },
  {
   "cell_type": "code",
   "execution_count": 2,
   "metadata": {
    "colab": {},
    "colab_type": "code",
    "id": "-Sv6JZVd3bdV",
    "vscode": {
     "languageId": "python"
    }
   },
   "outputs": [],
   "source": [
    "df = pd.read_csv(\"/content/UCI_Credit_Card.csv\")"
   ]
  },
  {
   "cell_type": "markdown",
   "metadata": {
    "colab_type": "text",
    "id": "S2j3YeEN4SFn"
   },
   "source": [
    "**Checking the dataset**"
   ]
  },
  {
   "cell_type": "code",
   "execution_count": 3,
   "metadata": {
    "colab": {
     "base_uri": "https://localhost:8080/",
     "height": 34
    },
    "colab_type": "code",
    "id": "kOTXWAEM4Nws",
    "outputId": "df4fca02-9aff-49d3-a975-a60341b975af",
    "vscode": {
     "languageId": "python"
    }
   },
   "outputs": [
    {
     "data": {
      "text/plain": [
       "(11109, 25)"
      ]
     },
     "execution_count": 3,
     "metadata": {
      "tags": []
     },
     "output_type": "execute_result"
    }
   ],
   "source": [
    "# checking the records\n",
    "df.shape\n"
   ]
  },
  {
   "cell_type": "code",
   "execution_count": 4,
   "metadata": {
    "colab": {
     "base_uri": "https://localhost:8080/",
     "height": 217
    },
    "colab_type": "code",
    "id": "1U_1Npme4YO1",
    "outputId": "67dc5d09-cbb7-4fb0-946a-0d537cc62b98",
    "vscode": {
     "languageId": "python"
    }
   },
   "outputs": [
    {
     "data": {
      "text/html": [
       "<div>\n",
       "<style scoped>\n",
       "    .dataframe tbody tr th:only-of-type {\n",
       "        vertical-align: middle;\n",
       "    }\n",
       "\n",
       "    .dataframe tbody tr th {\n",
       "        vertical-align: top;\n",
       "    }\n",
       "\n",
       "    .dataframe thead th {\n",
       "        text-align: right;\n",
       "    }\n",
       "</style>\n",
       "<table border=\"1\" class=\"dataframe\">\n",
       "  <thead>\n",
       "    <tr style=\"text-align: right;\">\n",
       "      <th></th>\n",
       "      <th>ID</th>\n",
       "      <th>LIMIT_BAL</th>\n",
       "      <th>SEX</th>\n",
       "      <th>EDUCATION</th>\n",
       "      <th>MARRIAGE</th>\n",
       "      <th>AGE</th>\n",
       "      <th>PAY_0</th>\n",
       "      <th>PAY_2</th>\n",
       "      <th>PAY_3</th>\n",
       "      <th>PAY_4</th>\n",
       "      <th>PAY_5</th>\n",
       "      <th>PAY_6</th>\n",
       "      <th>BILL_AMT1</th>\n",
       "      <th>BILL_AMT2</th>\n",
       "      <th>BILL_AMT3</th>\n",
       "      <th>BILL_AMT4</th>\n",
       "      <th>BILL_AMT5</th>\n",
       "      <th>BILL_AMT6</th>\n",
       "      <th>PAY_AMT1</th>\n",
       "      <th>PAY_AMT2</th>\n",
       "      <th>PAY_AMT3</th>\n",
       "      <th>PAY_AMT4</th>\n",
       "      <th>PAY_AMT5</th>\n",
       "      <th>PAY_AMT6</th>\n",
       "      <th>default.payment.next.month</th>\n",
       "    </tr>\n",
       "  </thead>\n",
       "  <tbody>\n",
       "    <tr>\n",
       "      <th>0</th>\n",
       "      <td>1</td>\n",
       "      <td>20000.0</td>\n",
       "      <td>2</td>\n",
       "      <td>2</td>\n",
       "      <td>1</td>\n",
       "      <td>24</td>\n",
       "      <td>2</td>\n",
       "      <td>2</td>\n",
       "      <td>-1</td>\n",
       "      <td>-1</td>\n",
       "      <td>-2</td>\n",
       "      <td>-2</td>\n",
       "      <td>3913.0</td>\n",
       "      <td>3102.0</td>\n",
       "      <td>689.0</td>\n",
       "      <td>0.0</td>\n",
       "      <td>0.0</td>\n",
       "      <td>0.0</td>\n",
       "      <td>0.0</td>\n",
       "      <td>689.0</td>\n",
       "      <td>0.0</td>\n",
       "      <td>0.0</td>\n",
       "      <td>0.0</td>\n",
       "      <td>0.0</td>\n",
       "      <td>1.0</td>\n",
       "    </tr>\n",
       "    <tr>\n",
       "      <th>1</th>\n",
       "      <td>2</td>\n",
       "      <td>120000.0</td>\n",
       "      <td>2</td>\n",
       "      <td>2</td>\n",
       "      <td>2</td>\n",
       "      <td>26</td>\n",
       "      <td>-1</td>\n",
       "      <td>2</td>\n",
       "      <td>0</td>\n",
       "      <td>0</td>\n",
       "      <td>0</td>\n",
       "      <td>2</td>\n",
       "      <td>2682.0</td>\n",
       "      <td>1725.0</td>\n",
       "      <td>2682.0</td>\n",
       "      <td>3272.0</td>\n",
       "      <td>3455.0</td>\n",
       "      <td>3261.0</td>\n",
       "      <td>0.0</td>\n",
       "      <td>1000.0</td>\n",
       "      <td>1000.0</td>\n",
       "      <td>1000.0</td>\n",
       "      <td>0.0</td>\n",
       "      <td>2000.0</td>\n",
       "      <td>1.0</td>\n",
       "    </tr>\n",
       "    <tr>\n",
       "      <th>2</th>\n",
       "      <td>3</td>\n",
       "      <td>90000.0</td>\n",
       "      <td>2</td>\n",
       "      <td>2</td>\n",
       "      <td>2</td>\n",
       "      <td>34</td>\n",
       "      <td>0</td>\n",
       "      <td>0</td>\n",
       "      <td>0</td>\n",
       "      <td>0</td>\n",
       "      <td>0</td>\n",
       "      <td>0</td>\n",
       "      <td>29239.0</td>\n",
       "      <td>14027.0</td>\n",
       "      <td>13559.0</td>\n",
       "      <td>14331.0</td>\n",
       "      <td>14948.0</td>\n",
       "      <td>15549.0</td>\n",
       "      <td>1518.0</td>\n",
       "      <td>1500.0</td>\n",
       "      <td>1000.0</td>\n",
       "      <td>1000.0</td>\n",
       "      <td>1000.0</td>\n",
       "      <td>5000.0</td>\n",
       "      <td>0.0</td>\n",
       "    </tr>\n",
       "    <tr>\n",
       "      <th>3</th>\n",
       "      <td>4</td>\n",
       "      <td>50000.0</td>\n",
       "      <td>2</td>\n",
       "      <td>2</td>\n",
       "      <td>1</td>\n",
       "      <td>37</td>\n",
       "      <td>0</td>\n",
       "      <td>0</td>\n",
       "      <td>0</td>\n",
       "      <td>0</td>\n",
       "      <td>0</td>\n",
       "      <td>0</td>\n",
       "      <td>46990.0</td>\n",
       "      <td>48233.0</td>\n",
       "      <td>49291.0</td>\n",
       "      <td>28314.0</td>\n",
       "      <td>28959.0</td>\n",
       "      <td>29547.0</td>\n",
       "      <td>2000.0</td>\n",
       "      <td>2019.0</td>\n",
       "      <td>1200.0</td>\n",
       "      <td>1100.0</td>\n",
       "      <td>1069.0</td>\n",
       "      <td>1000.0</td>\n",
       "      <td>0.0</td>\n",
       "    </tr>\n",
       "    <tr>\n",
       "      <th>4</th>\n",
       "      <td>5</td>\n",
       "      <td>50000.0</td>\n",
       "      <td>1</td>\n",
       "      <td>2</td>\n",
       "      <td>1</td>\n",
       "      <td>57</td>\n",
       "      <td>-1</td>\n",
       "      <td>0</td>\n",
       "      <td>-1</td>\n",
       "      <td>0</td>\n",
       "      <td>0</td>\n",
       "      <td>0</td>\n",
       "      <td>8617.0</td>\n",
       "      <td>5670.0</td>\n",
       "      <td>35835.0</td>\n",
       "      <td>20940.0</td>\n",
       "      <td>19146.0</td>\n",
       "      <td>19131.0</td>\n",
       "      <td>2000.0</td>\n",
       "      <td>36681.0</td>\n",
       "      <td>10000.0</td>\n",
       "      <td>9000.0</td>\n",
       "      <td>689.0</td>\n",
       "      <td>679.0</td>\n",
       "      <td>0.0</td>\n",
       "    </tr>\n",
       "  </tbody>\n",
       "</table>\n",
       "</div>"
      ],
      "text/plain": [
       "   ID  LIMIT_BAL  SEX  ...  PAY_AMT5  PAY_AMT6  default.payment.next.month\n",
       "0   1    20000.0    2  ...       0.0       0.0                         1.0\n",
       "1   2   120000.0    2  ...       0.0    2000.0                         1.0\n",
       "2   3    90000.0    2  ...    1000.0    5000.0                         0.0\n",
       "3   4    50000.0    2  ...    1069.0    1000.0                         0.0\n",
       "4   5    50000.0    1  ...     689.0     679.0                         0.0\n",
       "\n",
       "[5 rows x 25 columns]"
      ]
     },
     "execution_count": 4,
     "metadata": {
      "tags": []
     },
     "output_type": "execute_result"
    }
   ],
   "source": [
    "# previewing the top of the data\n",
    "df.head(5)"
   ]
  },
  {
   "cell_type": "markdown",
   "metadata": {
    "colab_type": "text",
    "id": "a3vFtlaq4qYX"
   },
   "source": [
    "**Measures of central tendancies**"
   ]
  },
  {
   "cell_type": "code",
   "execution_count": 5,
   "metadata": {
    "colab": {
     "base_uri": "https://localhost:8080/",
     "height": 307
    },
    "colab_type": "code",
    "id": "-v2h2imq4dce",
    "outputId": "31732616-24ef-4004-e208-f0043a31bb6e",
    "vscode": {
     "languageId": "python"
    }
   },
   "outputs": [
    {
     "data": {
      "text/html": [
       "<div>\n",
       "<style scoped>\n",
       "    .dataframe tbody tr th:only-of-type {\n",
       "        vertical-align: middle;\n",
       "    }\n",
       "\n",
       "    .dataframe tbody tr th {\n",
       "        vertical-align: top;\n",
       "    }\n",
       "\n",
       "    .dataframe thead th {\n",
       "        text-align: right;\n",
       "    }\n",
       "</style>\n",
       "<table border=\"1\" class=\"dataframe\">\n",
       "  <thead>\n",
       "    <tr style=\"text-align: right;\">\n",
       "      <th></th>\n",
       "      <th>ID</th>\n",
       "      <th>LIMIT_BAL</th>\n",
       "      <th>SEX</th>\n",
       "      <th>EDUCATION</th>\n",
       "      <th>MARRIAGE</th>\n",
       "      <th>AGE</th>\n",
       "      <th>PAY_0</th>\n",
       "      <th>PAY_2</th>\n",
       "      <th>PAY_3</th>\n",
       "      <th>PAY_4</th>\n",
       "      <th>PAY_5</th>\n",
       "      <th>PAY_6</th>\n",
       "      <th>BILL_AMT1</th>\n",
       "      <th>BILL_AMT2</th>\n",
       "      <th>BILL_AMT3</th>\n",
       "      <th>BILL_AMT4</th>\n",
       "      <th>BILL_AMT5</th>\n",
       "      <th>BILL_AMT6</th>\n",
       "      <th>PAY_AMT1</th>\n",
       "      <th>PAY_AMT2</th>\n",
       "      <th>PAY_AMT3</th>\n",
       "      <th>PAY_AMT4</th>\n",
       "      <th>PAY_AMT5</th>\n",
       "      <th>PAY_AMT6</th>\n",
       "      <th>default.payment.next.month</th>\n",
       "    </tr>\n",
       "  </thead>\n",
       "  <tbody>\n",
       "    <tr>\n",
       "      <th>count</th>\n",
       "      <td>11109.000000</td>\n",
       "      <td>11109.00000</td>\n",
       "      <td>11109.000000</td>\n",
       "      <td>11109.000000</td>\n",
       "      <td>11109.000000</td>\n",
       "      <td>11109.000000</td>\n",
       "      <td>11109.000000</td>\n",
       "      <td>11109.000000</td>\n",
       "      <td>11109.000000</td>\n",
       "      <td>11109.000000</td>\n",
       "      <td>11109.000000</td>\n",
       "      <td>11109.000000</td>\n",
       "      <td>11108.000000</td>\n",
       "      <td>11108.000000</td>\n",
       "      <td>1.110800e+04</td>\n",
       "      <td>11108.000000</td>\n",
       "      <td>11108.000000</td>\n",
       "      <td>11108.000000</td>\n",
       "      <td>11108.000000</td>\n",
       "      <td>1.110800e+04</td>\n",
       "      <td>11108.000000</td>\n",
       "      <td>11108.000000</td>\n",
       "      <td>11108.000000</td>\n",
       "      <td>11108.000000</td>\n",
       "      <td>11108.000000</td>\n",
       "    </tr>\n",
       "    <tr>\n",
       "      <th>mean</th>\n",
       "      <td>5555.000000</td>\n",
       "      <td>166153.20911</td>\n",
       "      <td>1.579710</td>\n",
       "      <td>1.816545</td>\n",
       "      <td>1.567828</td>\n",
       "      <td>35.384913</td>\n",
       "      <td>0.003061</td>\n",
       "      <td>-0.143307</td>\n",
       "      <td>-0.164371</td>\n",
       "      <td>-0.243316</td>\n",
       "      <td>-0.259519</td>\n",
       "      <td>-0.280853</td>\n",
       "      <td>49877.236136</td>\n",
       "      <td>47955.361721</td>\n",
       "      <td>4.519021e+04</td>\n",
       "      <td>40416.910695</td>\n",
       "      <td>39153.584174</td>\n",
       "      <td>37728.507022</td>\n",
       "      <td>5605.795103</td>\n",
       "      <td>5.736140e+03</td>\n",
       "      <td>4526.452197</td>\n",
       "      <td>4646.181311</td>\n",
       "      <td>4875.469571</td>\n",
       "      <td>5284.370274</td>\n",
       "      <td>0.225423</td>\n",
       "    </tr>\n",
       "    <tr>\n",
       "      <th>std</th>\n",
       "      <td>3207.036405</td>\n",
       "      <td>130304.04296</td>\n",
       "      <td>0.493628</td>\n",
       "      <td>0.766260</td>\n",
       "      <td>0.522120</td>\n",
       "      <td>9.315684</td>\n",
       "      <td>1.120965</td>\n",
       "      <td>1.203533</td>\n",
       "      <td>1.215961</td>\n",
       "      <td>1.139580</td>\n",
       "      <td>1.128525</td>\n",
       "      <td>1.160730</td>\n",
       "      <td>72196.769699</td>\n",
       "      <td>70085.931812</td>\n",
       "      <td>6.785330e+04</td>\n",
       "      <td>61318.434825</td>\n",
       "      <td>59428.192388</td>\n",
       "      <td>59139.263814</td>\n",
       "      <td>15404.171925</td>\n",
       "      <td>2.330529e+04</td>\n",
       "      <td>15816.979539</td>\n",
       "      <td>14270.716296</td>\n",
       "      <td>15757.455784</td>\n",
       "      <td>18438.099182</td>\n",
       "      <td>0.417879</td>\n",
       "    </tr>\n",
       "    <tr>\n",
       "      <th>min</th>\n",
       "      <td>1.000000</td>\n",
       "      <td>10000.00000</td>\n",
       "      <td>1.000000</td>\n",
       "      <td>0.000000</td>\n",
       "      <td>0.000000</td>\n",
       "      <td>21.000000</td>\n",
       "      <td>-2.000000</td>\n",
       "      <td>-2.000000</td>\n",
       "      <td>-2.000000</td>\n",
       "      <td>-2.000000</td>\n",
       "      <td>-2.000000</td>\n",
       "      <td>-2.000000</td>\n",
       "      <td>-15308.000000</td>\n",
       "      <td>-33350.000000</td>\n",
       "      <td>-3.404100e+04</td>\n",
       "      <td>-170000.000000</td>\n",
       "      <td>-28335.000000</td>\n",
       "      <td>-339603.000000</td>\n",
       "      <td>0.000000</td>\n",
       "      <td>0.000000e+00</td>\n",
       "      <td>0.000000</td>\n",
       "      <td>0.000000</td>\n",
       "      <td>0.000000</td>\n",
       "      <td>0.000000</td>\n",
       "      <td>0.000000</td>\n",
       "    </tr>\n",
       "    <tr>\n",
       "      <th>25%</th>\n",
       "      <td>2778.000000</td>\n",
       "      <td>50000.00000</td>\n",
       "      <td>1.000000</td>\n",
       "      <td>1.000000</td>\n",
       "      <td>1.000000</td>\n",
       "      <td>28.000000</td>\n",
       "      <td>-1.000000</td>\n",
       "      <td>-1.000000</td>\n",
       "      <td>-1.000000</td>\n",
       "      <td>-1.000000</td>\n",
       "      <td>-1.000000</td>\n",
       "      <td>-1.000000</td>\n",
       "      <td>3374.750000</td>\n",
       "      <td>2855.000000</td>\n",
       "      <td>2.466250e+03</td>\n",
       "      <td>1939.750000</td>\n",
       "      <td>1487.500000</td>\n",
       "      <td>982.000000</td>\n",
       "      <td>899.000000</td>\n",
       "      <td>6.007500e+02</td>\n",
       "      <td>274.750000</td>\n",
       "      <td>221.500000</td>\n",
       "      <td>200.000000</td>\n",
       "      <td>0.000000</td>\n",
       "      <td>0.000000</td>\n",
       "    </tr>\n",
       "    <tr>\n",
       "      <th>50%</th>\n",
       "      <td>5555.000000</td>\n",
       "      <td>140000.00000</td>\n",
       "      <td>2.000000</td>\n",
       "      <td>2.000000</td>\n",
       "      <td>2.000000</td>\n",
       "      <td>34.000000</td>\n",
       "      <td>0.000000</td>\n",
       "      <td>0.000000</td>\n",
       "      <td>0.000000</td>\n",
       "      <td>0.000000</td>\n",
       "      <td>0.000000</td>\n",
       "      <td>0.000000</td>\n",
       "      <td>21992.000000</td>\n",
       "      <td>21085.500000</td>\n",
       "      <td>1.974350e+04</td>\n",
       "      <td>18474.500000</td>\n",
       "      <td>17705.500000</td>\n",
       "      <td>16319.000000</td>\n",
       "      <td>2100.000000</td>\n",
       "      <td>2.000000e+03</td>\n",
       "      <td>1498.000000</td>\n",
       "      <td>1500.000000</td>\n",
       "      <td>1500.000000</td>\n",
       "      <td>1343.000000</td>\n",
       "      <td>0.000000</td>\n",
       "    </tr>\n",
       "    <tr>\n",
       "      <th>75%</th>\n",
       "      <td>8332.000000</td>\n",
       "      <td>240000.00000</td>\n",
       "      <td>2.000000</td>\n",
       "      <td>2.000000</td>\n",
       "      <td>2.000000</td>\n",
       "      <td>41.000000</td>\n",
       "      <td>0.000000</td>\n",
       "      <td>0.000000</td>\n",
       "      <td>0.000000</td>\n",
       "      <td>0.000000</td>\n",
       "      <td>0.000000</td>\n",
       "      <td>0.000000</td>\n",
       "      <td>64428.750000</td>\n",
       "      <td>61979.250000</td>\n",
       "      <td>5.808225e+04</td>\n",
       "      <td>49648.750000</td>\n",
       "      <td>49227.750000</td>\n",
       "      <td>48113.500000</td>\n",
       "      <td>5001.000000</td>\n",
       "      <td>5.000000e+03</td>\n",
       "      <td>4000.000000</td>\n",
       "      <td>4000.000000</td>\n",
       "      <td>4010.500000</td>\n",
       "      <td>4000.000000</td>\n",
       "      <td>0.000000</td>\n",
       "    </tr>\n",
       "    <tr>\n",
       "      <th>max</th>\n",
       "      <td>11109.000000</td>\n",
       "      <td>1000000.00000</td>\n",
       "      <td>2.000000</td>\n",
       "      <td>6.000000</td>\n",
       "      <td>3.000000</td>\n",
       "      <td>75.000000</td>\n",
       "      <td>8.000000</td>\n",
       "      <td>8.000000</td>\n",
       "      <td>8.000000</td>\n",
       "      <td>8.000000</td>\n",
       "      <td>8.000000</td>\n",
       "      <td>8.000000</td>\n",
       "      <td>964511.000000</td>\n",
       "      <td>983931.000000</td>\n",
       "      <td>1.664089e+06</td>\n",
       "      <td>891586.000000</td>\n",
       "      <td>927171.000000</td>\n",
       "      <td>961664.000000</td>\n",
       "      <td>405016.000000</td>\n",
       "      <td>1.684259e+06</td>\n",
       "      <td>896040.000000</td>\n",
       "      <td>497000.000000</td>\n",
       "      <td>388071.000000</td>\n",
       "      <td>528666.000000</td>\n",
       "      <td>1.000000</td>\n",
       "    </tr>\n",
       "  </tbody>\n",
       "</table>\n",
       "</div>"
      ],
      "text/plain": [
       "                 ID      LIMIT_BAL  ...       PAY_AMT6  default.payment.next.month\n",
       "count  11109.000000    11109.00000  ...   11108.000000                11108.000000\n",
       "mean    5555.000000   166153.20911  ...    5284.370274                    0.225423\n",
       "std     3207.036405   130304.04296  ...   18438.099182                    0.417879\n",
       "min        1.000000    10000.00000  ...       0.000000                    0.000000\n",
       "25%     2778.000000    50000.00000  ...       0.000000                    0.000000\n",
       "50%     5555.000000   140000.00000  ...    1343.000000                    0.000000\n",
       "75%     8332.000000   240000.00000  ...    4000.000000                    0.000000\n",
       "max    11109.000000  1000000.00000  ...  528666.000000                    1.000000\n",
       "\n",
       "[8 rows x 25 columns]"
      ]
     },
     "execution_count": 5,
     "metadata": {
      "tags": []
     },
     "output_type": "execute_result"
    }
   ],
   "source": [
    "df.describe()"
   ]
  },
  {
   "cell_type": "markdown",
   "metadata": {
    "colab_type": "text",
    "id": "4QsAFqds6PR5"
   },
   "source": [
    "\n",
    "*   There are 30,000 credit card holders\n",
    "*   The average limit balance is 167,484\n",
    "*   The average age of the client is 35\n",
    "*   Most holders are either graduates or university students\n",
    "\n",
    "\n",
    "\n",
    "\n"
   ]
  },
  {
   "cell_type": "markdown",
   "metadata": {
    "colab_type": "text",
    "id": "-FvNaOfT6-vi"
   },
   "source": [
    "# Cleaning the data"
   ]
  },
  {
   "cell_type": "code",
   "execution_count": 6,
   "metadata": {
    "colab": {
     "base_uri": "https://localhost:8080/",
     "height": 478
    },
    "colab_type": "code",
    "id": "5EqFQfGX4vkc",
    "outputId": "66bc9cb9-4625-4373-81e3-67d9ace368ab",
    "vscode": {
     "languageId": "python"
    }
   },
   "outputs": [
    {
     "data": {
      "text/plain": [
       "ID                            0\n",
       "LIMIT_BAL                     0\n",
       "SEX                           0\n",
       "EDUCATION                     0\n",
       "MARRIAGE                      0\n",
       "AGE                           0\n",
       "PAY_0                         0\n",
       "PAY_2                         0\n",
       "PAY_3                         0\n",
       "PAY_4                         0\n",
       "PAY_5                         0\n",
       "PAY_6                         0\n",
       "BILL_AMT1                     1\n",
       "BILL_AMT2                     1\n",
       "BILL_AMT3                     1\n",
       "BILL_AMT4                     1\n",
       "BILL_AMT5                     1\n",
       "BILL_AMT6                     1\n",
       "PAY_AMT1                      1\n",
       "PAY_AMT2                      1\n",
       "PAY_AMT3                      1\n",
       "PAY_AMT4                      1\n",
       "PAY_AMT5                      1\n",
       "PAY_AMT6                      1\n",
       "default.payment.next.month    1\n",
       "dtype: int64"
      ]
     },
     "execution_count": 6,
     "metadata": {
      "tags": []
     },
     "output_type": "execute_result"
    }
   ],
   "source": [
    "# Checking for missing data\n",
    "df.isnull().sum()"
   ]
  },
  {
   "cell_type": "markdown",
   "metadata": {
    "colab_type": "text",
    "id": "zEVPxSS57P0W"
   },
   "source": [
    "There are no missing records from our dataset"
   ]
  },
  {
   "cell_type": "code",
   "execution_count": 7,
   "metadata": {
    "colab": {
     "base_uri": "https://localhost:8080/",
     "height": 585
    },
    "colab_type": "code",
    "id": "r8dm01UL7M-q",
    "outputId": "fdcbfe37-99ef-4061-cb26-ba3ba60b6856",
    "vscode": {
     "languageId": "python"
    }
   },
   "outputs": [
    {
     "name": "stdout",
     "output_type": "stream",
     "text": [
      "<class 'pandas.core.frame.DataFrame'>\n",
      "RangeIndex: 11109 entries, 0 to 11108\n",
      "Data columns (total 25 columns):\n",
      " #   Column                      Non-Null Count  Dtype  \n",
      "---  ------                      --------------  -----  \n",
      " 0   ID                          11109 non-null  int64  \n",
      " 1   LIMIT_BAL                   11109 non-null  float64\n",
      " 2   SEX                         11109 non-null  int64  \n",
      " 3   EDUCATION                   11109 non-null  int64  \n",
      " 4   MARRIAGE                    11109 non-null  int64  \n",
      " 5   AGE                         11109 non-null  int64  \n",
      " 6   PAY_0                       11109 non-null  int64  \n",
      " 7   PAY_2                       11109 non-null  int64  \n",
      " 8   PAY_3                       11109 non-null  int64  \n",
      " 9   PAY_4                       11109 non-null  int64  \n",
      " 10  PAY_5                       11109 non-null  int64  \n",
      " 11  PAY_6                       11109 non-null  int64  \n",
      " 12  BILL_AMT1                   11108 non-null  float64\n",
      " 13  BILL_AMT2                   11108 non-null  float64\n",
      " 14  BILL_AMT3                   11108 non-null  float64\n",
      " 15  BILL_AMT4                   11108 non-null  float64\n",
      " 16  BILL_AMT5                   11108 non-null  float64\n",
      " 17  BILL_AMT6                   11108 non-null  float64\n",
      " 18  PAY_AMT1                    11108 non-null  float64\n",
      " 19  PAY_AMT2                    11108 non-null  float64\n",
      " 20  PAY_AMT3                    11108 non-null  float64\n",
      " 21  PAY_AMT4                    11108 non-null  float64\n",
      " 22  PAY_AMT5                    11108 non-null  float64\n",
      " 23  PAY_AMT6                    11108 non-null  float64\n",
      " 24  default.payment.next.month  11108 non-null  float64\n",
      "dtypes: float64(14), int64(11)\n",
      "memory usage: 2.1 MB\n"
     ]
    }
   ],
   "source": [
    "# Checking the datatypes\n",
    "df.info()"
   ]
  },
  {
   "cell_type": "markdown",
   "metadata": {
    "colab_type": "text",
    "id": "nfl1hSsS7bky"
   },
   "source": [
    "Most of our columns are either integers or floats\n"
   ]
  },
  {
   "cell_type": "markdown",
   "metadata": {
    "colab_type": "text",
    "id": "Z9LwUnON8DTq"
   },
   "source": [
    "# EDA"
   ]
  },
  {
   "cell_type": "markdown",
   "metadata": {
    "colab_type": "text",
    "id": "YyeJJ-S579xz"
   },
   "source": [
    "**Data exploration**"
   ]
  },
  {
   "cell_type": "code",
   "execution_count": 7,
   "metadata": {
    "colab": {},
    "colab_type": "code",
    "id": "XMYlO75-T5Uv",
    "vscode": {
     "languageId": "python"
    }
   },
   "outputs": [],
   "source": []
  },
  {
   "cell_type": "code",
   "execution_count": 8,
   "metadata": {
    "colab": {
     "base_uri": "https://localhost:8080/",
     "height": 606
    },
    "colab_type": "code",
    "id": "ByXcSjM1O283",
    "outputId": "adfb39e3-55d9-4da9-d5b2-d6ac4b3936a3",
    "vscode": {
     "languageId": "python"
    }
   },
   "outputs": [
    {
     "name": "stdout",
     "output_type": "stream",
     "text": [
      "default.payment.next.month\n",
      "0.0    8604\n",
      "1.0    2504\n",
      "Name: default.payment.next.month, dtype: int64\n"
     ]
    },
    {
     "data": {
      "text/plain": [
       "Text(0.5, 1.0, 'Default payment analysis')"
      ]
     },
     "execution_count": 8,
     "metadata": {
      "tags": []
     },
     "output_type": "execute_result"
    },
    {
     "data": {
      "image/png": "[encoded data removed]",
      "text/plain": [
       "<Figure size 720x576 with 1 Axes>"
      ]
     },
     "metadata": {
      "needs_background": "light",
      "tags": []
     },
     "output_type": "display_data"
    }
   ],
   "source": [
    "# Analysis of default column\n",
    "print(df.groupby(['default.payment.next.month'])['default.payment.next.month'].count().sort_values(ascending = False).head(2))\n",
    "# Create the plot\n",
    "fig, axes = plt.subplots(figsize = (10,8))\n",
    "sns.countplot(data = df, x = \"default.payment.next.month\")\n",
    "count = df[\"default.payment.next.month\"].value_counts()\n",
    "sns.set_color_codes(\"pastel\")\n",
    "locs, labels = plt.xticks()\n",
    "plt.title(\"Default payment analysis\", fontsize=20)\n",
    "\n",
    "# 1= default\n",
    "# 0 = No default\n"
   ]
  },
  {
   "cell_type": "code",
   "execution_count": 9,
   "metadata": {
    "colab": {
     "base_uri": "https://localhost:8080/",
     "height": 517
    },
    "colab_type": "code",
    "id": "NsHsGDXxVpTC",
    "outputId": "4be61a80-2dbe-4d04-830b-5997666e4f0d",
    "vscode": {
     "languageId": "python"
    }
   },
   "outputs": [
    {
     "name": "stdout",
     "output_type": "stream",
     "text": [
      "50000.0    1329\n",
      "20000.0     720\n",
      "30000.0     606\n",
      "Name: LIMIT_BAL, dtype: int64\n"
     ]
    },
    {
     "data": {
      "image/png": "[encoded data removed]",
      "text/plain": [
       "<Figure size 900x576 with 1 Axes>"
      ]
     },
     "metadata": {
      "needs_background": "light",
      "tags": []
     },
     "output_type": "display_data"
    }
   ],
   "source": [
    "# Analysing the amount of credit limit\n",
    "print(df['LIMIT_BAL'].value_counts().head(3))\n",
    "\n",
    "# Visualising amount of credit limit\n",
    "plt.figure(figsize = (12.5,8))\n",
    "plt.title('Credit Limit')\n",
    "sns.set_color_codes(\"pastel\")\n",
    "sns.distplot(df['LIMIT_BAL'],kde=True,bins=200)\n",
    "plt.show()"
   ]
  },
  {
   "cell_type": "markdown",
   "metadata": {
    "colab_type": "text",
    "id": "LsJ_pc6LP4jh"
   },
   "source": [
    "From the bar chart above, around 20% of the creditholders defaulted; and the largest group of amount of credit is 50,000"
   ]
  },
  {
   "cell_type": "code",
   "execution_count": 10,
   "metadata": {
    "colab": {
     "base_uri": "https://localhost:8080/",
     "height": 464
    },
    "colab_type": "code",
    "id": "KIHIJI9LaSRb",
    "outputId": "a30b20bc-f69a-456f-f10f-35b742d1d214",
    "vscode": {
     "languageId": "python"
    }
   },
   "outputs": [
    {
     "data": {
      "image/png": "[encoded data removed]",
      "text/plain": [
       "<Figure size 864x576 with 1 Axes>"
      ]
     },
     "metadata": {
      "needs_background": "light",
      "tags": []
     },
     "output_type": "display_data"
    }
   ],
   "source": [
    "# Amount of credit limit grouped by default payment next month\n",
    "group_1 = df.loc[df['default.payment.next.month'] == 0][\"LIMIT_BAL\"]\n",
    "group_2 = df.loc[df['default.payment.next.month'] == 1][\"LIMIT_BAL\"]\n",
    "plt.figure(figsize = (12,8))\n",
    "plt.title('Default amount of credit limit  - grouped by Payment Next Month')\n",
    "sns.set_color_codes(\"pastel\")\n",
    "sns.distplot(group_1,kde=True,bins=200, color=\"black\")\n",
    "sns.distplot(group_2,kde=True,bins=200, color=\"orange\")\n",
    "plt.show()"
   ]
  },
  {
   "cell_type": "markdown",
   "metadata": {
    "colab_type": "text",
    "id": "XjJHUBPxb6NT"
   },
   "source": [
    "# Correlation"
   ]
  },
  {
   "cell_type": "markdown",
   "metadata": {
    "colab_type": "text",
    "id": "2RQTXoAvcHd_"
   },
   "source": [
    "Correlation of Amount of bill statement in April - September 2005."
   ]
  },
  {
   "cell_type": "code",
   "execution_count": 11,
   "metadata": {
    "colab": {
     "base_uri": "https://localhost:8080/",
     "height": 732
    },
    "colab_type": "code",
    "id": "91MFdr2Rb9x-",
    "outputId": "23c976b3-33fe-4f77-c1a3-905038216fea",
    "vscode": {
     "languageId": "python"
    }
   },
   "outputs": [
    {
     "name": "stdout",
     "output_type": "stream",
     "text": [
      "           BILL_AMT1  BILL_AMT2  BILL_AMT3  BILL_AMT4  BILL_AMT5  BILL_AMT6\n",
      "BILL_AMT1   1.000000   0.954364   0.877065   0.859553   0.841312   0.818760\n",
      "BILL_AMT2   0.954364   1.000000   0.909237   0.890316   0.871078   0.844889\n",
      "BILL_AMT3   0.877065   0.909237   1.000000   0.912724   0.886924   0.861574\n",
      "BILL_AMT4   0.859553   0.890316   0.912724   1.000000   0.949562   0.910330\n",
      "BILL_AMT5   0.841312   0.871078   0.886924   0.949562   1.000000   0.948477\n",
      "BILL_AMT6   0.818760   0.844889   0.861574   0.910330   0.948477   1.000000\n"
     ]
    },
    {
     "data": {
      "image/png": "[encoded data removed]",
      "text/plain": [
       "<Figure size 720x720 with 2 Axes>"
      ]
     },
     "metadata": {
      "needs_background": "light",
      "tags": []
     },
     "output_type": "display_data"
    }
   ],
   "source": [
    "Billed_Amount = ['BILL_AMT1','BILL_AMT2','BILL_AMT3','BILL_AMT4','BILL_AMT5','BILL_AMT6']\n",
    "\n",
    "plt.figure(figsize = (10,10))\n",
    "plt.title('Amount of bill statement (April-September)')\n",
    "corr = df[Billed_Amount].corr()\n",
    "print(corr)\n",
    "sns.heatmap(corr,xticklabels=corr.columns,yticklabels=corr.columns,linewidths=.1,vmin=-1, vmax=1)\n",
    "plt.show()"
   ]
  },
  {
   "cell_type": "markdown",
   "metadata": {
    "colab_type": "text",
    "id": "TRmoapKidIl_"
   },
   "source": [
    "Correlation is weakening with increased distance in the months. The lowest correlation is between September and December while the highest correlation is between April and May"
   ]
  },
  {
   "cell_type": "code",
   "execution_count": 12,
   "metadata": {
    "colab": {
     "base_uri": "https://localhost:8080/",
     "height": 750
    },
    "colab_type": "code",
    "id": "SharTe-1dk_K",
    "outputId": "f31ec121-150f-408f-9225-b583882b2877",
    "vscode": {
     "languageId": "python"
    }
   },
   "outputs": [
    {
     "name": "stdout",
     "output_type": "stream",
     "text": [
      "          PAY_AMT1  PAY_AMT2  PAY_AMT3  PAY_AMT4  PAY_AMT5  PAY_AMT6\n",
      "PAY_AMT1  1.000000  0.141339  0.175130  0.179177  0.156786  0.240460\n",
      "PAY_AMT2  0.141339  1.000000  0.160032  0.147419  0.243471  0.154309\n",
      "PAY_AMT3  0.175130  0.160032  1.000000  0.186648  0.153492  0.140106\n",
      "PAY_AMT4  0.179177  0.147419  0.186648  1.000000  0.153633  0.148660\n",
      "PAY_AMT5  0.156786  0.243471  0.153492  0.153633  1.000000  0.161322\n",
      "PAY_AMT6  0.240460  0.154309  0.140106  0.148660  0.161322  1.000000\n"
     ]
    },
    {
     "data": {
      "text/plain": [
       "<function matplotlib.pyplot.show>"
      ]
     },
     "execution_count": 12,
     "metadata": {
      "tags": []
     },
     "output_type": "execute_result"
    },
    {
     "data": {
      "image/png": "[encoded data removed]",
      "text/plain": [
       "<Figure size 720x720 with 2 Axes>"
      ]
     },
     "metadata": {
      "needs_background": "light",
      "tags": []
     },
     "output_type": "display_data"
    }
   ],
   "source": [
    "Paid_amount = [\"PAY_AMT1\", \"PAY_AMT2\", \"PAY_AMT3\", \"PAY_AMT4\", \"PAY_AMT5\", \"PAY_AMT6\"]\n",
    "plt.figure(figsize=(10,10))\n",
    "plt.title(\"Paid amount of credit\")\n",
    "corr = df[Paid_amount].corr()\n",
    "print(corr)\n",
    "sns.heatmap(corr,xticklabels=corr.columns, yticklabels=corr.columns, linewidths=1, vmin=1, vmax=1)\n",
    "plt.show\n"
   ]
  },
  {
   "cell_type": "markdown",
   "metadata": {
    "colab_type": "text",
    "id": "i51UekUwgl64"
   },
   "source": [
    "There is weak correlation between the amount of previous payment across the six months"
   ]
  },
  {
   "cell_type": "markdown",
   "metadata": {
    "colab_type": "text",
    "id": "9vQRWIC_hJw-"
   },
   "source": [
    "# Predictive models"
   ]
  },
  {
   "cell_type": "markdown",
   "metadata": {
    "colab_type": "text",
    "id": "cV-97mNChc2M"
   },
   "source": [
    "Defining the independent and dependent variables"
   ]
  },
  {
   "cell_type": "code",
   "execution_count": 13,
   "metadata": {
    "colab": {
     "base_uri": "https://localhost:8080/",
     "height": 478
    },
    "colab_type": "code",
    "id": "u-vFujp6TMXi",
    "outputId": "a24e113c-1861-4e34-c8bb-9bc4905dfa5d",
    "vscode": {
     "languageId": "python"
    }
   },
   "outputs": [
    {
     "data": {
      "text/plain": [
       "ID                            0\n",
       "LIMIT_BAL                     0\n",
       "SEX                           0\n",
       "EDUCATION                     0\n",
       "MARRIAGE                      0\n",
       "AGE                           0\n",
       "PAY_0                         0\n",
       "PAY_2                         0\n",
       "PAY_3                         0\n",
       "PAY_4                         0\n",
       "PAY_5                         0\n",
       "PAY_6                         0\n",
       "BILL_AMT1                     1\n",
       "BILL_AMT2                     1\n",
       "BILL_AMT3                     1\n",
       "BILL_AMT4                     1\n",
       "BILL_AMT5                     1\n",
       "BILL_AMT6                     1\n",
       "PAY_AMT1                      1\n",
       "PAY_AMT2                      1\n",
       "PAY_AMT3                      1\n",
       "PAY_AMT4                      1\n",
       "PAY_AMT5                      1\n",
       "PAY_AMT6                      1\n",
       "default.payment.next.month    1\n",
       "dtype: int64"
      ]
     },
     "execution_count": 13,
     "metadata": {
      "tags": []
     },
     "output_type": "execute_result"
    }
   ],
   "source": [
    "df.isna().sum()"
   ]
  },
  {
   "cell_type": "code",
   "execution_count": 14,
   "metadata": {
    "colab": {},
    "colab_type": "code",
    "id": "sXYxwPA2TQkf",
    "vscode": {
     "languageId": "python"
    }
   },
   "outputs": [],
   "source": [
    "df.dropna(inplace=True)"
   ]
  },
  {
   "cell_type": "code",
   "execution_count": 15,
   "metadata": {
    "colab": {
     "base_uri": "https://localhost:8080/",
     "height": 34
    },
    "colab_type": "code",
    "id": "YvWwWQsHfyFw",
    "outputId": "3173a784-3473-436c-ae0b-1e5f6f74901b",
    "vscode": {
     "languageId": "python"
    }
   },
   "outputs": [
    {
     "data": {
      "text/plain": [
       "((11108, 24), (11108,))"
      ]
     },
     "execution_count": 15,
     "metadata": {
      "tags": []
     },
     "output_type": "execute_result"
    }
   ],
   "source": [
    "# Getting the target and the predictors\n",
    "X = df.drop(\"default.payment.next.month\", 1)\n",
    "y = np.array(df[\"default.payment.next.month\"])\n",
    "\n",
    "# Splitting the data into train and test\n",
    "X_train, X_test, y_train,  y_test = train_test_split(X, y, test_size = 0.2, random_state =0)\n",
    "X.shape, y.shape"
   ]
  },
  {
   "cell_type": "markdown",
   "metadata": {
    "colab_type": "text",
    "id": "eF-gtU5Rjcml"
   },
   "source": [
    "**Random forest classifier**"
   ]
  },
  {
   "cell_type": "code",
   "execution_count": 16,
   "metadata": {
    "colab": {
     "base_uri": "https://localhost:8080/",
     "height": 287
    },
    "colab_type": "code",
    "id": "JuVwbXFOnF70",
    "outputId": "3e06b873-a14d-4f77-c8b0-15121f5588e2",
    "vscode": {
     "languageId": "python"
    }
   },
   "outputs": [
    {
     "data": {
      "text/html": [
       "<div>\n",
       "<style scoped>\n",
       "    .dataframe tbody tr th:only-of-type {\n",
       "        vertical-align: middle;\n",
       "    }\n",
       "\n",
       "    .dataframe tbody tr th {\n",
       "        vertical-align: top;\n",
       "    }\n",
       "\n",
       "    .dataframe thead th {\n",
       "        text-align: right;\n",
       "    }\n",
       "</style>\n",
       "<table border=\"1\" class=\"dataframe\">\n",
       "  <thead>\n",
       "    <tr style=\"text-align: right;\">\n",
       "      <th></th>\n",
       "      <th>Actual</th>\n",
       "      <th>Predicted</th>\n",
       "    </tr>\n",
       "  </thead>\n",
       "  <tbody>\n",
       "    <tr>\n",
       "      <th>count</th>\n",
       "      <td>2222.000000</td>\n",
       "      <td>2222.000000</td>\n",
       "    </tr>\n",
       "    <tr>\n",
       "      <th>mean</th>\n",
       "      <td>0.226823</td>\n",
       "      <td>0.081908</td>\n",
       "    </tr>\n",
       "    <tr>\n",
       "      <th>std</th>\n",
       "      <td>0.418871</td>\n",
       "      <td>0.274287</td>\n",
       "    </tr>\n",
       "    <tr>\n",
       "      <th>min</th>\n",
       "      <td>0.000000</td>\n",
       "      <td>0.000000</td>\n",
       "    </tr>\n",
       "    <tr>\n",
       "      <th>25%</th>\n",
       "      <td>0.000000</td>\n",
       "      <td>0.000000</td>\n",
       "    </tr>\n",
       "    <tr>\n",
       "      <th>50%</th>\n",
       "      <td>0.000000</td>\n",
       "      <td>0.000000</td>\n",
       "    </tr>\n",
       "    <tr>\n",
       "      <th>75%</th>\n",
       "      <td>0.000000</td>\n",
       "      <td>0.000000</td>\n",
       "    </tr>\n",
       "    <tr>\n",
       "      <th>max</th>\n",
       "      <td>1.000000</td>\n",
       "      <td>1.000000</td>\n",
       "    </tr>\n",
       "  </tbody>\n",
       "</table>\n",
       "</div>"
      ],
      "text/plain": [
       "            Actual    Predicted\n",
       "count  2222.000000  2222.000000\n",
       "mean      0.226823     0.081908\n",
       "std       0.418871     0.274287\n",
       "min       0.000000     0.000000\n",
       "25%       0.000000     0.000000\n",
       "50%       0.000000     0.000000\n",
       "75%       0.000000     0.000000\n",
       "max       1.000000     1.000000"
      ]
     },
     "execution_count": 16,
     "metadata": {
      "tags": []
     },
     "output_type": "execute_result"
    }
   ],
   "source": [
    "\n",
    "# Import the model\n",
    "from sklearn.ensemble import RandomForestClassifier\n",
    "\n",
    "# The random_state variable is here to guarantee that we all see the same numbers.\n",
    "# Note that we can provide the same parameters as in the decision tree, such as \n",
    "# min_samples_split or max_depth\n",
    "credit = RandomForestClassifier(n_estimators = 300, random_state=42, min_samples_split = 20, max_depth=5)\n",
    "credit = credit.fit(X_train, y_train)\n",
    "\n",
    "# Predict based on the model we've trained\n",
    "y_pred = credit.predict(X_test)\n",
    "\n",
    "\n",
    "comparison_frame = pd.DataFrame({'Actual': y_test.flatten(), 'Predicted': y_pred.flatten()})\n",
    "\n",
    "comparison_frame.describe()\n"
   ]
  },
  {
   "cell_type": "code",
   "execution_count": 17,
   "metadata": {
    "colab": {
     "base_uri": "https://localhost:8080/",
     "height": 70
    },
    "colab_type": "code",
    "id": "iixIa2pvbHOp",
    "outputId": "78ebf357-a876-4d7b-8bc9-f14f38c97342",
    "vscode": {
     "languageId": "python"
    }
   },
   "outputs": [
    {
     "name": "stdout",
     "output_type": "stream",
     "text": [
      "Mean Absolute Error: 0.1926192619261926\n",
      "Mean Squared Error: 0.1926192619261926\n",
      "Root Mean Squared Error: 0.43888410990396154\n"
     ]
    }
   ],
   "source": [
    "from sklearn import metrics\n",
    "\n",
    "# And now we assess the errors\n",
    "print('Mean Absolute Error:', metrics.mean_absolute_error(y_test, y_pred))  \n",
    "print('Mean Squared Error:', metrics.mean_squared_error(y_test, y_pred))  \n",
    "print('Root Mean Squared Error:', np.sqrt(metrics.mean_squared_error(y_test, y_pred)))\n"
   ]
  },
  {
   "cell_type": "code",
   "execution_count": 18,
   "metadata": {
    "colab": {
     "base_uri": "https://localhost:8080/",
     "height": 34
    },
    "colab_type": "code",
    "id": "DMfjYu20XvcW",
    "outputId": "7ef896e4-e5c4-4d9e-e365-952f36898c19",
    "vscode": {
     "languageId": "python"
    }
   },
   "outputs": [
    {
     "name": "stdout",
     "output_type": "stream",
     "text": [
      "Accuracy score of random forest: 80.73807380738074\n"
     ]
    }
   ],
   "source": [
    "# Checking the accuracy\n",
    "from sklearn import metrics\n",
    "print(\"Accuracy score of random forest:\",metrics.accuracy_score(y_test, y_pred)*100)"
   ]
  },
  {
   "cell_type": "markdown",
   "metadata": {
    "colab_type": "text",
    "id": "GAb8mTvHi86Q"
   },
   "source": [
    "> **The accuracy is 81.8% which is just slightly higher than the one we got from the Random Forest Model.**"
   ]
  },
  {
   "cell_type": "code",
   "execution_count": 19,
   "metadata": {
    "colab": {
     "base_uri": "https://localhost:8080/",
     "height": 422
    },
    "colab_type": "code",
    "id": "WTfjVIz_hSNj",
    "outputId": "3bbc4e2a-719f-44b1-f4af-67419972c533",
    "vscode": {
     "languageId": "python"
    }
   },
   "outputs": [
    {
     "name": "stdout",
     "output_type": "stream",
     "text": [
      "Predicted   0.0  1.0\n",
      "Actual              \n",
      "0.0        1665   53\n",
      "1.0         375  129\n"
     ]
    },
    {
     "data": {
      "image/png": "[encoded data removed]",
      "text/plain": [
       "<Figure size 360x360 with 2 Axes>"
      ]
     },
     "metadata": {
      "needs_background": "light",
      "tags": []
     },
     "output_type": "display_data"
    }
   ],
   "source": [
    "cm = pd.crosstab(y_test, y_pred, rownames=['Actual'], colnames=['Predicted'])\n",
    "print(cm)\n",
    "fig, (ax1) = plt.subplots(ncols=1, figsize=(5,5))\n",
    "sns.heatmap(cm, \n",
    "            xticklabels=['Not Default', 'Default'],\n",
    "            yticklabels=['Not Default', 'Default'],\n",
    "            annot=True,ax=ax1,\n",
    "            linewidths=.2,linecolor=\"Darkblue\", cmap=\"Blues\")\n",
    "plt.title('Confusion Matrix', fontsize=14)\n",
    "plt.show()\n",
    "# 1= default\n",
    "# 0 = No default"
   ]
  },
  {
   "cell_type": "code",
   "execution_count": 20,
   "metadata": {
    "colab": {
     "base_uri": "https://localhost:8080/",
     "height": 481
    },
    "colab_type": "code",
    "id": "WcLdxSbmZagG",
    "outputId": "2c2e778c-3f8b-4186-9fa8-7b55e5e1325e",
    "vscode": {
     "languageId": "python"
    }
   },
   "outputs": [
    {
     "name": "stdout",
     "output_type": "stream",
     "text": [
      "[('ID', 0.01), ('LIMIT_BAL', 0.02), ('SEX', 0.0), ('EDUCATION', 0.0), ('MARRIAGE', 0.0), ('AGE', 0.01), ('PAY_0', 0.27), ('PAY_2', 0.15), ('PAY_3', 0.1), ('PAY_4', 0.08), ('PAY_5', 0.09), ('PAY_6', 0.04), ('BILL_AMT1', 0.02), ('BILL_AMT2', 0.01), ('BILL_AMT3', 0.01), ('BILL_AMT4', 0.01), ('BILL_AMT5', 0.01), ('BILL_AMT6', 0.01), ('PAY_AMT1', 0.04), ('PAY_AMT2', 0.03), ('PAY_AMT3', 0.03), ('PAY_AMT4', 0.02), ('PAY_AMT5', 0.01), ('PAY_AMT6', 0.02)]\n",
      "PAY_0                Importance: 0.27\n",
      "PAY_2                Importance: 0.15\n",
      "PAY_3                Importance: 0.1\n",
      "PAY_5                Importance: 0.09\n",
      "PAY_4                Importance: 0.08\n",
      "PAY_6                Importance: 0.04\n",
      "PAY_AMT1             Importance: 0.04\n",
      "PAY_AMT2             Importance: 0.03\n",
      "PAY_AMT3             Importance: 0.03\n",
      "LIMIT_BAL            Importance: 0.02\n",
      "BILL_AMT1            Importance: 0.02\n",
      "PAY_AMT4             Importance: 0.02\n",
      "PAY_AMT6             Importance: 0.02\n",
      "ID                   Importance: 0.01\n",
      "AGE                  Importance: 0.01\n",
      "BILL_AMT2            Importance: 0.01\n",
      "BILL_AMT3            Importance: 0.01\n",
      "BILL_AMT4            Importance: 0.01\n",
      "BILL_AMT5            Importance: 0.01\n",
      "BILL_AMT6            Importance: 0.01\n",
      "PAY_AMT5             Importance: 0.01\n",
      "SEX                  Importance: 0.0\n",
      "EDUCATION            Importance: 0.0\n",
      "MARRIAGE             Importance: 0.0\n"
     ]
    }
   ],
   "source": [
    "# Get numerical feature importances\n",
    "importances = list(credit.feature_importances_)\n",
    "\n",
    "# List of tuples with variable and importance\n",
    "feature_importances = [(feature, round(importance, 2)) for feature, importance in zip(X, importances)]\n",
    "\n",
    "print(feature_importances) #this already has all the information we need, but it can be tricky to see when there are too many features.\n",
    "\n",
    "\n",
    "# Nice to have: We can sort the values in descending order, since we care about the most important features first.\n",
    "feature_importances = sorted(feature_importances, key = lambda x: x[1], reverse = True)\n",
    "\n",
    "# Print out the feature and importances \n",
    "[print('{:20} Importance: {}'.format(*pair)) for pair in feature_importances];"
   ]
  },
  {
   "cell_type": "code",
   "execution_count": 21,
   "metadata": {
    "colab": {
     "base_uri": "https://localhost:8080/",
     "height": 344
    },
    "colab_type": "code",
    "id": "S5ewCZTBhMe4",
    "outputId": "2e4c330d-f76a-4614-a2e0-979c44ed525f",
    "vscode": {
     "languageId": "python"
    }
   },
   "outputs": [
    {
     "data": {
      "image/png": "[encoded data removed]",
      "text/plain": [
       "<Figure size 432x288 with 1 Axes>"
      ]
     },
     "metadata": {
      "needs_background": "light",
      "tags": []
     },
     "output_type": "display_data"
    }
   ],
   "source": [
    "# Import matplotlib for plotting and use magic command for Jupyter Notebooks\n",
    "import matplotlib.pyplot as plt\n",
    "\n",
    "# list of x locations for plotting\n",
    "x_values = list(range(len(importances)))\n",
    "# Make a bar chart\n",
    "plt.bar(x_values, importances, orientation = 'vertical')\n",
    "# Tick labels for x axis\n",
    "plt.xticks(x_values, X, rotation='vertical')\n",
    "# Axis labels and title\n",
    "plt.ylabel('Importance'); plt.xlabel('Variable'); plt.title('Variable Importances');"
   ]
  },
  {
   "cell_type": "code",
   "execution_count": 22,
   "metadata": {
    "colab": {},
    "colab_type": "code",
    "id": "sY_WoPGBfKd9",
    "vscode": {
     "languageId": "python"
    }
   },
   "outputs": [],
   "source": [
    "feat = df[['PAY_0', 'LIMIT_BAL',\\\n",
    "       'PAY_2', 'PAY_3', 'PAY_4', 'PAY_5', 'PAY_6', 'BILL_AMT1', 'BILL_AMT2',\\\n",
    "       'BILL_AMT3', 'BILL_AMT4', 'BILL_AMT5', 'BILL_AMT6', 'PAY_AMT1',\\\n",
    "       'PAY_AMT2', 'PAY_AMT3', 'PAY_AMT4', 'PAY_AMT5', 'PAY_AMT6']]"
   ]
  },
  {
   "cell_type": "code",
   "execution_count": 23,
   "metadata": {
    "colab": {
     "base_uri": "https://localhost:8080/",
     "height": 34
    },
    "colab_type": "code",
    "id": "5amSKxBjbUfz",
    "outputId": "de74ea2f-99cd-446d-ad0b-5cc38809a828",
    "vscode": {
     "languageId": "python"
    }
   },
   "outputs": [
    {
     "data": {
      "text/plain": [
       "((11108, 19), (11108,))"
      ]
     },
     "execution_count": 23,
     "metadata": {
      "tags": []
     },
     "output_type": "execute_result"
    }
   ],
   "source": [
    "from sklearn.ensemble import AdaBoostRegressor\n",
    "from sklearn.datasets import make_classification\n",
    "\n",
    "X = feat\n",
    "y = np.array(df[\"default.payment.next.month\"])\n",
    "\n",
    "clf = AdaBoostClassifier(n_estimators=300, random_state=0)\n",
    "\n",
    "# Splitting the data into train and test\n",
    "X_train, X_test, y_train,  y_test = train_test_split(X, y, test_size = 0.2, random_state =0)\n",
    "X.shape, y.shape\n"
   ]
  },
  {
   "cell_type": "code",
   "execution_count": 24,
   "metadata": {
    "colab": {
     "base_uri": "https://localhost:8080/",
     "height": 287
    },
    "colab_type": "code",
    "id": "NOeyVlh7k8Fn",
    "outputId": "a7b4726c-fc0a-4783-c455-b3fc90adeaf0",
    "vscode": {
     "languageId": "python"
    }
   },
   "outputs": [
    {
     "data": {
      "text/html": [
       "<div>\n",
       "<style scoped>\n",
       "    .dataframe tbody tr th:only-of-type {\n",
       "        vertical-align: middle;\n",
       "    }\n",
       "\n",
       "    .dataframe tbody tr th {\n",
       "        vertical-align: top;\n",
       "    }\n",
       "\n",
       "    .dataframe thead th {\n",
       "        text-align: right;\n",
       "    }\n",
       "</style>\n",
       "<table border=\"1\" class=\"dataframe\">\n",
       "  <thead>\n",
       "    <tr style=\"text-align: right;\">\n",
       "      <th></th>\n",
       "      <th>Actual</th>\n",
       "      <th>Predicted</th>\n",
       "    </tr>\n",
       "  </thead>\n",
       "  <tbody>\n",
       "    <tr>\n",
       "      <th>count</th>\n",
       "      <td>2222.000000</td>\n",
       "      <td>2222.000000</td>\n",
       "    </tr>\n",
       "    <tr>\n",
       "      <th>mean</th>\n",
       "      <td>0.226823</td>\n",
       "      <td>0.116562</td>\n",
       "    </tr>\n",
       "    <tr>\n",
       "      <th>std</th>\n",
       "      <td>0.418871</td>\n",
       "      <td>0.320969</td>\n",
       "    </tr>\n",
       "    <tr>\n",
       "      <th>min</th>\n",
       "      <td>0.000000</td>\n",
       "      <td>0.000000</td>\n",
       "    </tr>\n",
       "    <tr>\n",
       "      <th>25%</th>\n",
       "      <td>0.000000</td>\n",
       "      <td>0.000000</td>\n",
       "    </tr>\n",
       "    <tr>\n",
       "      <th>50%</th>\n",
       "      <td>0.000000</td>\n",
       "      <td>0.000000</td>\n",
       "    </tr>\n",
       "    <tr>\n",
       "      <th>75%</th>\n",
       "      <td>0.000000</td>\n",
       "      <td>0.000000</td>\n",
       "    </tr>\n",
       "    <tr>\n",
       "      <th>max</th>\n",
       "      <td>1.000000</td>\n",
       "      <td>1.000000</td>\n",
       "    </tr>\n",
       "  </tbody>\n",
       "</table>\n",
       "</div>"
      ],
      "text/plain": [
       "            Actual    Predicted\n",
       "count  2222.000000  2222.000000\n",
       "mean      0.226823     0.116562\n",
       "std       0.418871     0.320969\n",
       "min       0.000000     0.000000\n",
       "25%       0.000000     0.000000\n",
       "50%       0.000000     0.000000\n",
       "75%       0.000000     0.000000\n",
       "max       1.000000     1.000000"
      ]
     },
     "execution_count": 24,
     "metadata": {
      "tags": []
     },
     "output_type": "execute_result"
    }
   ],
   "source": [
    "# Train the model\n",
    "#\n",
    "clf.fit(X_train, y_train)\n",
    "\n",
    "# Predict using the trained model\n",
    "#\n",
    "credit_pred = clf.predict(X_test)\n",
    "\n",
    "comparison = pd.DataFrame({'Actual': y_test.flatten(), 'Predicted': credit_pred.flatten()})\n",
    "\n",
    "comparison.describe()"
   ]
  },
  {
   "cell_type": "markdown",
   "metadata": {
    "colab_type": "text",
    "id": "IUP2SJKop5ZI"
   },
   "source": [
    "### AdaBoost"
   ]
  },
  {
   "cell_type": "code",
   "execution_count": 25,
   "metadata": {
    "colab": {
     "base_uri": "https://localhost:8080/",
     "height": 0
    },
    "colab_type": "code",
    "id": "tLgq4BNug0z1",
    "outputId": "6829b357-f1d7-4aad-c783-2800f9f3064c",
    "vscode": {
     "languageId": "python"
    }
   },
   "outputs": [
    {
     "name": "stdout",
     "output_type": "stream",
     "text": [
      "Accuracy score after AdaBoost: 81.14311431143115\n",
      "Precision score after AdaBoost: 66.40926640926641\n",
      "Recall score after AdaBoost: 34.12698412698413\n"
     ]
    }
   ],
   "source": [
    "# Checking the accuracy\n",
    "# -----\n",
    "# Using AdaBoost\n",
    "#\n",
    "from sklearn.metrics import accuracy_score, precision_score, recall_score\n",
    "\n",
    "credit = AdaBoostClassifier(n_estimators=300)\n",
    "\n",
    "credit.fit(X_train, y_train)\n",
    "y_pred = credit.predict(X_test)\n",
    "\n",
    "print(\"Accuracy score after AdaBoost:\",metrics.accuracy_score(y_test, credit_pred)*100)\n",
    "print(\"Precision score after AdaBoost:\",metrics.precision_score(y_test, credit_pred)*100)\n",
    "print(\"Recall score after AdaBoost:\",metrics.recall_score(y_test, credit_pred)*100)"
   ]
  },
  {
   "cell_type": "code",
   "execution_count": 26,
   "metadata": {
    "colab": {
     "base_uri": "https://localhost:8080/",
     "height": 0
    },
    "colab_type": "code",
    "id": "NSHFuGIDg4dB",
    "outputId": "88486ac8-f178-4afe-e586-f83380cb49f0",
    "vscode": {
     "languageId": "python"
    }
   },
   "outputs": [
    {
     "name": "stdout",
     "output_type": "stream",
     "text": [
      "Predicted   0.0  1.0\n",
      "Actual              \n",
      "0.0        1631   87\n",
      "1.0         332  172\n"
     ]
    },
    {
     "data": {
      "image/png": "[encoded data removed]",
      "text/plain": [
       "<Figure size 360x360 with 2 Axes>"
      ]
     },
     "metadata": {
      "needs_background": "light",
      "tags": []
     },
     "output_type": "display_data"
    }
   ],
   "source": [
    "cm = pd.crosstab(y_test, credit_pred, rownames=['Actual'], colnames=['Predicted'])\n",
    "print(cm)\n",
    "fig, (ax1) = plt.subplots(ncols=1, figsize=(5,5))\n",
    "sns.heatmap(cm, \n",
    "            xticklabels=['Not Default', 'Default'],\n",
    "            yticklabels=['Not Default', 'Default'],\n",
    "            annot=True,ax=ax1,\n",
    "            linewidths=.2,linecolor=\"Darkblue\", cmap=\"Blues\")\n",
    "plt.title('Confusion Matrix', fontsize=14)\n",
    "plt.show()\n",
    "# 1= default\n",
    "# 0 = No default"
   ]
  },
  {
   "cell_type": "markdown",
   "metadata": {
    "colab_type": "text",
    "id": "p2LwLvh5lc_F"
   },
   "source": [
    "### Gradient Boosting"
   ]
  },
  {
   "cell_type": "code",
   "execution_count": 27,
   "metadata": {
    "colab": {},
    "colab_type": "code",
    "id": "2TpPeJfTllxw",
    "vscode": {
     "languageId": "python"
    }
   },
   "outputs": [],
   "source": [
    "from sklearn.ensemble import GradientBoostingClassifier\n",
    "import lightgbm as lgb"
   ]
  },
  {
   "cell_type": "code",
   "execution_count": 28,
   "metadata": {
    "colab": {
     "base_uri": "https://localhost:8080/",
     "height": 0
    },
    "colab_type": "code",
    "id": "b0AqH2enlbjL",
    "outputId": "8a0dbf11-1981-4531-9349-934df3c2dfa3",
    "vscode": {
     "languageId": "python"
    }
   },
   "outputs": [
    {
     "name": "stdout",
     "output_type": "stream",
     "text": [
      "Accuracy score after GradientBoost: 81.14311431143115\n",
      "Precision score after GradientBoost: 66.40926640926641\n",
      "Recall score after GradientBoost: 34.12698412698413\n"
     ]
    }
   ],
   "source": [
    "# Using GradientBoosting\n",
    "from sklearn.metrics import accuracy_score, precision_score, recall_score\n",
    "\n",
    "X = feat\n",
    "y = np.array(df[\"default.payment.next.month\"])\n",
    "\n",
    "# Splitting the data into train and test\n",
    "X_train, X_test, y_train,  y_test = train_test_split(X, y, test_size = 0.2, random_state =0)\n",
    "X.shape, y.shape\n",
    "\n",
    "credit = GradientBoostingClassifier(n_estimators=700)\n",
    "\n",
    "credit.fit(X_train, y_train)\n",
    "y_pred = credit.predict(X_test)\n",
    "\n",
    "print(\"Accuracy score after GradientBoost:\",metrics.accuracy_score(y_test, credit_pred)*100)\n",
    "print(\"Precision score after GradientBoost:\",metrics.precision_score(y_test, credit_pred)*100)\n",
    "print(\"Recall score after GradientBoost:\",metrics.recall_score(y_test, credit_pred)*100)"
   ]
  },
  {
   "cell_type": "code",
   "execution_count": 29,
   "metadata": {
    "colab": {
     "base_uri": "https://localhost:8080/",
     "height": 0
    },
    "colab_type": "code",
    "id": "Ta54YdsVohKl",
    "outputId": "44dd1e31-c4af-49db-84df-5225a27dc1d6",
    "vscode": {
     "languageId": "python"
    }
   },
   "outputs": [
    {
     "name": "stdout",
     "output_type": "stream",
     "text": [
      "Predicted   0.0  1.0\n",
      "Actual              \n",
      "0.0        1613  105\n",
      "1.0         319  185\n"
     ]
    },
    {
     "data": {
      "image/png": "[encoded data removed]",
      "text/plain": [
       "<Figure size 360x360 with 2 Axes>"
      ]
     },
     "metadata": {
      "needs_background": "light",
      "tags": []
     },
     "output_type": "display_data"
    }
   ],
   "source": [
    "cm = pd.crosstab(y_test, y_pred, rownames=['Actual'], colnames=['Predicted'])\n",
    "print(cm)\n",
    "fig, (ax1) = plt.subplots(ncols=1, figsize=(5,5))\n",
    "sns.heatmap(cm, \n",
    "            xticklabels=['Not Default', 'Default'],\n",
    "            yticklabels=['Not Default', 'Default'],\n",
    "            annot=True,ax=ax1,\n",
    "            linewidths=.2,linecolor=\"Darkblue\", cmap=\"Blues\")\n",
    "plt.title('Confusion Matrix', fontsize=14)\n",
    "plt.show()\n",
    "# 1= default\n",
    "# 0 = No default"
   ]
  },
  {
   "cell_type": "markdown",
   "metadata": {
    "colab_type": "text",
    "id": "eDXGtcsIhx3V"
   },
   "source": [
    "### XGBoost for Classification\n",
    "> An XGBClassifier on the test problem using repeated k-fold cross-validation and reports the mean accuracy. Then a single model is fit on all available data and a single prediction is made."
   ]
  },
  {
   "cell_type": "code",
   "execution_count": 30,
   "metadata": {
    "colab": {
     "base_uri": "https://localhost:8080/",
     "height": 34
    },
    "colab_type": "code",
    "id": "SrIMDOeOhdtS",
    "outputId": "8959c674-1733-4f14-9214-c8ead28c19a0",
    "vscode": {
     "languageId": "python"
    }
   },
   "outputs": [
    {
     "name": "stdout",
     "output_type": "stream",
     "text": [
      "Accuracy: 80.265 (0.010)\n"
     ]
    }
   ],
   "source": [
    "# xgboost for classification\n",
    "from numpy import asarray\n",
    "from numpy import mean\n",
    "from numpy import std\n",
    "from sklearn.datasets import make_classification\n",
    "from xgboost import XGBClassifier\n",
    "from sklearn.model_selection import cross_val_score\n",
    "from sklearn.model_selection import RepeatedStratifiedKFold\n",
    "from matplotlib import pyplot\n",
    "\n",
    "# Split data into features and Labels\n",
    "#\n",
    "X = feat\n",
    "y = np.array(df[\"default.payment.next.month\"])\n",
    "\n",
    "# Splitting the data into train and test\n",
    "X_train, X_test, y_train, y_test = train_test_split(X, y, test_size = 0.2, random_state =0)\n",
    "\n",
    "#Training and Making Predictions\n",
    "# In this case we'll use random forest classification for making the predictions.\n",
    "# \n",
    "from sklearn.ensemble import RandomForestClassifier\n",
    "\n",
    "classifier = RandomForestClassifier(max_depth=2, random_state=0)\n",
    "classifier.fit(X_train, y_train)\n",
    "\n",
    "# Predicting the Test set results\n",
    "y_pred = classifier.predict(X_test)\n",
    "\n",
    "# evaluate the model\n",
    "model = XGBClassifier()\n",
    "cv = RepeatedStratifiedKFold(n_splits=10, n_repeats=3, random_state=1)\n",
    "n_scores = cross_val_score(model, X_train, y_train, scoring='accuracy', cv=cv, n_jobs=-1, error_score='raise')\n",
    "print('Accuracy: %.3f (%.3f)' % (mean(n_scores)*100, std(n_scores)))"
   ]
  },
  {
   "cell_type": "markdown",
   "metadata": {
    "colab_type": "text",
    "id": "WL6r3k9xiQxw"
   },
   "source": [
    "> **The accuracy is 82.124% which is just slightly higher than the one we got from the Random Forest Model.**"
   ]
  },
  {
   "cell_type": "code",
   "execution_count": 31,
   "metadata": {
    "colab": {
     "base_uri": "https://localhost:8080/",
     "height": 70
    },
    "colab_type": "code",
    "id": "MJym-p2Cn5-6",
    "outputId": "1e069a72-0e33-42e0-aa81-aa4b083ba655",
    "vscode": {
     "languageId": "python"
    }
   },
   "outputs": [
    {
     "name": "stdout",
     "output_type": "stream",
     "text": [
      "Accuracy score after GradientBoost: 81.14311431143115\n",
      "Precision score after GradientBoost: 66.40926640926641\n",
      "Recall score after GradientBoost: 34.12698412698413\n"
     ]
    }
   ],
   "source": [
    "# fit the model on the whole dataset\n",
    "model = XGBClassifier(objective='reg:squarederror')\n",
    "model.fit(X_train, y_train)\n",
    "# Predicting the Test set results\n",
    "y_pred = model.predict(X_test)\n",
    "\n",
    "print(\"Accuracy score after GradientBoost:\",metrics.accuracy_score(y_test, credit_pred)*100)\n",
    "print(\"Precision score after GradientBoost:\",metrics.precision_score(y_test, credit_pred)*100)\n",
    "print(\"Recall score after GradientBoost:\",metrics.recall_score(y_test, credit_pred)*100)"
   ]
  },
  {
   "cell_type": "markdown",
   "metadata": {
    "colab_type": "text",
    "id": "uZNOR3XKqHKw"
   },
   "source": [
    "**Plotting a Confusion matrix**"
   ]
  },
  {
   "cell_type": "code",
   "execution_count": 32,
   "metadata": {
    "colab": {
     "base_uri": "https://localhost:8080/",
     "height": 422
    },
    "colab_type": "code",
    "id": "8PWnv0JunmzI",
    "outputId": "a697e197-8c9b-47c7-ace4-6eeba858d32a",
    "vscode": {
     "languageId": "python"
    }
   },
   "outputs": [
    {
     "name": "stdout",
     "output_type": "stream",
     "text": [
      "Predicted   0.0  1.0\n",
      "Actual              \n",
      "0.0        1646   72\n",
      "1.0         330  174\n"
     ]
    },
    {
     "data": {
      "image/png": "[encoded data removed]",
      "text/plain": [
       "<Figure size 360x360 with 2 Axes>"
      ]
     },
     "metadata": {
      "needs_background": "light",
      "tags": []
     },
     "output_type": "display_data"
    }
   ],
   "source": [
    "cm = pd.crosstab(y_test, y_pred, rownames=['Actual'], colnames=['Predicted'])\n",
    "print(cm)\n",
    "fig, (ax1) = plt.subplots(ncols=1, figsize=(5,5))\n",
    "sns.heatmap(cm, \n",
    "            xticklabels=['Not Default', 'Default'],\n",
    "            yticklabels=['Not Default', 'Default'],\n",
    "            annot=True,ax=ax1,\n",
    "            linewidths=.2,linecolor=\"Darkblue\", cmap=\"Blues\")\n",
    "plt.title('Confusion Matrix', fontsize=14)\n",
    "plt.show()\n",
    "# 1= default\n",
    "# 0 = No default"
   ]
  },
  {
   "cell_type": "code",
   "execution_count": 33,
   "metadata": {
    "colab": {
     "base_uri": "https://localhost:8080/",
     "height": 122
    },
    "colab_type": "code",
    "id": "s0AjWG9CiH0Z",
    "outputId": "871e1592-cd38-4f1f-dac3-1fb0980a9db7",
    "vscode": {
     "languageId": "python"
    }
   },
   "outputs": [
    {
     "data": {
      "text/plain": [
       "<Figure size 1800x360 with 0 Axes>"
      ]
     },
     "metadata": {
      "tags": []
     },
     "output_type": "display_data"
    },
    {
     "data": {
      "image/png": "[encoded data removed]",
      "text/plain": [
       "<Figure size 432x288 with 1 Axes>"
      ]
     },
     "metadata": {
      "needs_background": "light",
      "tags": []
     },
     "output_type": "display_data"
    }
   ],
   "source": [
    "# Create the XGBClassifier Tree Map\n",
    "#\n",
    "from xgboost import plot_tree\n",
    "import matplotlib.pyplot as plt\n",
    "model = XGBClassifier()\n",
    "model.fit(X_train, y_train)\n",
    "# plot single tree\n",
    "plt.figure(figsize=(25, 5))\n",
    "plot_tree(model)\n",
    "plt.show()"
   ]
  },
  {
   "cell_type": "markdown",
   "metadata": {
    "colab_type": "text",
    "id": "zeBHL0eOpx-7"
   },
   "source": [
    "### CatBoost"
   ]
  },
  {
   "cell_type": "code",
   "execution_count": 34,
   "metadata": {
    "colab": {
     "base_uri": "https://localhost:8080/",
     "height": 356
    },
    "colab_type": "code",
    "id": "-LcgUuyPstxY",
    "outputId": "aa124e7d-2ef1-455d-bbbc-487532764029",
    "vscode": {
     "languageId": "python"
    }
   },
   "outputs": [
    {
     "name": "stdout",
     "output_type": "stream",
     "text": [
      "Collecting catboost\n",
      "\u001b[?25l  Downloading https://files.pythonhosted.org/packages/90/86/c3dcb600b4f9e7584ed90ea9d30a717fb5c0111574675f442c3e7bc19535/catboost-0.24.1-cp36-none-manylinux1_x86_64.whl (66.1MB)\n",
      "\u001b[K     |████████████████████████████████| 66.1MB 57kB/s \n",
      "\u001b[?25hRequirement already satisfied: scipy in /usr/local/lib/python3.6/dist-packages (from catboost) (1.4.1)\n",
      "Requirement already satisfied: graphviz in /usr/local/lib/python3.6/dist-packages (from catboost) (0.10.1)\n",
      "Requirement already satisfied: plotly in /usr/local/lib/python3.6/dist-packages (from catboost) (4.4.1)\n",
      "Requirement already satisfied: matplotlib in /usr/local/lib/python3.6/dist-packages (from catboost) (3.2.2)\n",
      "Requirement already satisfied: six in /usr/local/lib/python3.6/dist-packages (from catboost) (1.15.0)\n",
      "Requirement already satisfied: pandas>=0.24.0 in /usr/local/lib/python3.6/dist-packages (from catboost) (1.0.5)\n",
      "Requirement already satisfied: numpy>=1.16.0 in /usr/local/lib/python3.6/dist-packages (from catboost) (1.18.5)\n",
      "Requirement already satisfied: retrying>=1.3.3 in /usr/local/lib/python3.6/dist-packages (from plotly->catboost) (1.3.3)\n",
      "Requirement already satisfied: pyparsing!=2.0.4,!=2.1.2,!=2.1.6,>=2.0.1 in /usr/local/lib/python3.6/dist-packages (from matplotlib->catboost) (2.4.7)\n",
      "Requirement already satisfied: kiwisolver>=1.0.1 in /usr/local/lib/python3.6/dist-packages (from matplotlib->catboost) (1.2.0)\n",
      "Requirement already satisfied: cycler>=0.10 in /usr/local/lib/python3.6/dist-packages (from matplotlib->catboost) (0.10.0)\n",
      "Requirement already satisfied: python-dateutil>=2.1 in /usr/local/lib/python3.6/dist-packages (from matplotlib->catboost) (2.8.1)\n",
      "Requirement already satisfied: pytz>=2017.2 in /usr/local/lib/python3.6/dist-packages (from pandas>=0.24.0->catboost) (2018.9)\n",
      "Installing collected packages: catboost\n",
      "Successfully installed catboost-0.24.1\n"
     ]
    }
   ],
   "source": [
    "!pip3 install catboost"
   ]
  },
  {
   "cell_type": "code",
   "execution_count": 35,
   "metadata": {
    "colab": {
     "base_uri": "https://localhost:8080/",
     "height": 34
    },
    "colab_type": "code",
    "id": "Pmr9hNMakWIy",
    "outputId": "e0f4a72e-5fd2-40e5-85dd-e381a6f2e44f",
    "vscode": {
     "languageId": "python"
    }
   },
   "outputs": [
    {
     "name": "stdout",
     "output_type": "stream",
     "text": [
      "Accuracy: 0.808 (0.010)\n"
     ]
    }
   ],
   "source": [
    "# catboost for classification\n",
    "from numpy import mean\n",
    "from numpy import std\n",
    "from sklearn.datasets import make_classification\n",
    "from catboost import CatBoostClassifier\n",
    "from sklearn.model_selection import cross_val_score\n",
    "from sklearn.model_selection import RepeatedStratifiedKFold\n",
    "from matplotlib import pyplot\n",
    "# evaluate the model\n",
    "\n",
    "\n",
    "# Split data into features and Labels\n",
    "#\n",
    "X = feat\n",
    "y = np.array(df[\"default.payment.next.month\"])\n",
    "\n",
    "# Splitting the data into train and test\n",
    "X_train, X_test, y_train, y_test = train_test_split(X, y, test_size = 0.2, random_state =0)\n",
    "\n",
    "model = CatBoostClassifier(verbose=0, n_estimators=100)\n",
    "cv = RepeatedStratifiedKFold(n_splits=10, n_repeats=3, random_state=1)\n",
    "n_scores = cross_val_score(model, X, y, scoring='accuracy', cv=cv, n_jobs=-1, error_score='raise')\n",
    "print('Accuracy: %.3f (%.3f)' % (mean(n_scores), std(n_scores)))"
   ]
  },
  {
   "cell_type": "code",
   "execution_count": 36,
   "metadata": {
    "colab": {
     "base_uri": "https://localhost:8080/",
     "height": 34
    },
    "colab_type": "code",
    "id": "BahQYaI3shIl",
    "outputId": "1d3a079c-420c-4579-bc60-e19bd1f3d3d2",
    "vscode": {
     "languageId": "python"
    }
   },
   "outputs": [
    {
     "data": {
      "text/plain": [
       "<catboost.core.CatBoostClassifier at 0x7f80fb3b6b38>"
      ]
     },
     "execution_count": 36,
     "metadata": {
      "tags": []
     },
     "output_type": "execute_result"
    }
   ],
   "source": [
    "# fit the model on the whole dataset\n",
    "model = CatBoostClassifier(verbose=0, n_estimators=100)\n",
    "model.fit(X_train, y_train)"
   ]
  },
  {
   "cell_type": "code",
   "execution_count": 37,
   "metadata": {
    "colab": {
     "base_uri": "https://localhost:8080/",
     "height": 70
    },
    "colab_type": "code",
    "id": "ljwMTjOntJYX",
    "outputId": "a7a3f00c-a177-48e3-ece7-c328f103aa4d",
    "vscode": {
     "languageId": "python"
    }
   },
   "outputs": [
    {
     "name": "stdout",
     "output_type": "stream",
     "text": [
      "Accuracy score after CatBoost: 81.95319531953196\n",
      "Precision score after CatBoost: 68.45878136200717\n",
      "Recall score after CatBoost: 37.89682539682539\n"
     ]
    }
   ],
   "source": [
    "# make a single prediction\n",
    "y_pred = model.predict(X_test)\n",
    "y_pred\n",
    "\n",
    "print(\"Accuracy score after CatBoost:\",metrics.accuracy_score(y_test, y_pred)*100)\n",
    "print(\"Precision score after CatBoost:\",metrics.precision_score(y_test, y_pred)*100)\n",
    "print(\"Recall score after CatBoost:\",metrics.recall_score(y_test, y_pred)*100)"
   ]
  },
  {
   "cell_type": "code",
   "execution_count": 38,
   "metadata": {
    "colab": {
     "base_uri": "https://localhost:8080/",
     "height": 422
    },
    "colab_type": "code",
    "id": "ZXlbDorQtTFY",
    "outputId": "c8097631-d550-4172-9b95-d0daf071d01e",
    "vscode": {
     "languageId": "python"
    }
   },
   "outputs": [
    {
     "name": "stdout",
     "output_type": "stream",
     "text": [
      "Predicted   0.0  1.0\n",
      "Actual              \n",
      "0.0        1630   88\n",
      "1.0         313  191\n"
     ]
    },
    {
     "data": {
      "image/png": "[encoded data removed]",
      "text/plain": [
       "<Figure size 360x360 with 2 Axes>"
      ]
     },
     "metadata": {
      "needs_background": "light",
      "tags": []
     },
     "output_type": "display_data"
    }
   ],
   "source": [
    "cm = pd.crosstab(y_test, y_pred, rownames=['Actual'], colnames=['Predicted'])\n",
    "print(cm)\n",
    "fig, (ax1) = plt.subplots(ncols=1, figsize=(5,5))\n",
    "sns.heatmap(cm, \n",
    "            xticklabels=['Not Default', 'Default'],\n",
    "            yticklabels=['Not Default', 'Default'],\n",
    "            annot=True,ax=ax1,\n",
    "            linewidths=.2,linecolor=\"Darkblue\", cmap=\"Blues\")\n",
    "plt.title('Confusion Matrix', fontsize=14)\n",
    "plt.show()\n",
    "# 1= default\n",
    "# 0 = No default"
   ]
  },
  {
   "cell_type": "code",
   "execution_count": 41,
   "metadata": {
    "colab": {},
    "colab_type": "code",
    "id": "SMDTd0zmkaS_",
    "vscode": {
     "languageId": "python"
    }
   },
   "outputs": [],
   "source": [
    "pickle.dump(model,open('model.pkl','wb'))\n",
    "model=pickle.load(open('model.pkl','rb'))"
   ]
  },
  {
   "cell_type": "code",
   "execution_count": 48,
   "metadata": {
    "colab": {
     "base_uri": "https://localhost:8080/",
     "height": 127
    },
    "colab_type": "code",
    "id": "Mya5-m77l8Ls",
    "outputId": "c61152e8-c4a6-4ac2-a7a5-02175b93c8ac",
    "vscode": {
     "languageId": "python"
    }
   },
   "outputs": [
    {
     "data": {
      "text/html": [
       "<div>\n",
       "<style scoped>\n",
       "    .dataframe tbody tr th:only-of-type {\n",
       "        vertical-align: middle;\n",
       "    }\n",
       "\n",
       "    .dataframe tbody tr th {\n",
       "        vertical-align: top;\n",
       "    }\n",
       "\n",
       "    .dataframe thead th {\n",
       "        text-align: right;\n",
       "    }\n",
       "</style>\n",
       "<table border=\"1\" class=\"dataframe\">\n",
       "  <thead>\n",
       "    <tr style=\"text-align: right;\">\n",
       "      <th></th>\n",
       "      <th>PAY_0</th>\n",
       "      <th>LIMIT_BAL</th>\n",
       "      <th>PAY_2</th>\n",
       "      <th>PAY_3</th>\n",
       "      <th>PAY_4</th>\n",
       "      <th>PAY_5</th>\n",
       "      <th>PAY_6</th>\n",
       "      <th>BILL_AMT1</th>\n",
       "      <th>BILL_AMT2</th>\n",
       "      <th>BILL_AMT3</th>\n",
       "      <th>BILL_AMT4</th>\n",
       "      <th>BILL_AMT5</th>\n",
       "      <th>BILL_AMT6</th>\n",
       "      <th>PAY_AMT1</th>\n",
       "      <th>PAY_AMT2</th>\n",
       "      <th>PAY_AMT3</th>\n",
       "      <th>PAY_AMT4</th>\n",
       "      <th>PAY_AMT5</th>\n",
       "      <th>PAY_AMT6</th>\n",
       "    </tr>\n",
       "  </thead>\n",
       "  <tbody>\n",
       "    <tr>\n",
       "      <th>0</th>\n",
       "      <td>2</td>\n",
       "      <td>20000.0</td>\n",
       "      <td>2</td>\n",
       "      <td>-1</td>\n",
       "      <td>-1</td>\n",
       "      <td>-2</td>\n",
       "      <td>-2</td>\n",
       "      <td>3913.0</td>\n",
       "      <td>3102.0</td>\n",
       "      <td>689.0</td>\n",
       "      <td>0.0</td>\n",
       "      <td>0.0</td>\n",
       "      <td>0.0</td>\n",
       "      <td>0.0</td>\n",
       "      <td>689.0</td>\n",
       "      <td>0.0</td>\n",
       "      <td>0.0</td>\n",
       "      <td>0.0</td>\n",
       "      <td>0.0</td>\n",
       "    </tr>\n",
       "    <tr>\n",
       "      <th>1</th>\n",
       "      <td>-1</td>\n",
       "      <td>120000.0</td>\n",
       "      <td>2</td>\n",
       "      <td>0</td>\n",
       "      <td>0</td>\n",
       "      <td>0</td>\n",
       "      <td>2</td>\n",
       "      <td>2682.0</td>\n",
       "      <td>1725.0</td>\n",
       "      <td>2682.0</td>\n",
       "      <td>3272.0</td>\n",
       "      <td>3455.0</td>\n",
       "      <td>3261.0</td>\n",
       "      <td>0.0</td>\n",
       "      <td>1000.0</td>\n",
       "      <td>1000.0</td>\n",
       "      <td>1000.0</td>\n",
       "      <td>0.0</td>\n",
       "      <td>2000.0</td>\n",
       "    </tr>\n",
       "  </tbody>\n",
       "</table>\n",
       "</div>"
      ],
      "text/plain": [
       "   PAY_0  LIMIT_BAL  PAY_2  PAY_3  ...  PAY_AMT3  PAY_AMT4  PAY_AMT5  PAY_AMT6\n",
       "0      2    20000.0      2     -1  ...       0.0       0.0       0.0       0.0\n",
       "1     -1   120000.0      2      0  ...    1000.0    1000.0       0.0    2000.0\n",
       "\n",
       "[2 rows x 19 columns]"
      ]
     },
     "execution_count": 48,
     "metadata": {
      "tags": []
     },
     "output_type": "execute_result"
    }
   ],
   "source": [
    "X.head(2)"
   ]
  },
  {
   "cell_type": "code",
   "execution_count": 49,
   "metadata": {
    "colab": {
     "base_uri": "https://localhost:8080/",
     "height": 105
    },
    "colab_type": "code",
    "id": "3OnKdJODrIWh",
    "outputId": "53428ddd-dee9-423f-9fd5-451387362b90",
    "vscode": {
     "languageId": "python"
    }
   },
   "outputs": [
    {
     "data": {
      "text/plain": [
       "Index(['PAY_0', 'LIMIT_BAL', 'PAY_2', 'PAY_3', 'PAY_4', 'PAY_5', 'PAY_6',\n",
       "       'BILL_AMT1', 'BILL_AMT2', 'BILL_AMT3', 'BILL_AMT4', 'BILL_AMT5',\n",
       "       'BILL_AMT6', 'PAY_AMT1', 'PAY_AMT2', 'PAY_AMT3', 'PAY_AMT4', 'PAY_AMT5',\n",
       "       'PAY_AMT6'],\n",
       "      dtype='object')"
      ]
     },
     "execution_count": 49,
     "metadata": {
      "tags": []
     },
     "output_type": "execute_result"
    }
   ],
   "source": [
    "X.columns"
   ]
  },
  {
   "cell_type": "markdown",
   "metadata": {
    "colab_type": "text",
    "id": "rhg7aMK2pJ-B"
   },
   "source": []
  }
 ],
 "metadata": {
  "colab": {
   "name": "Copy of Credit card default prediction",
   "provenance": []
  },
  "kernelspec": {
   "display_name": "Python [conda env:base] *",
   "language": "python",
   "name": "conda-base-py"
  },
  "language_info": {
   "codemirror_mode": {
    "name": "ipython",
    "version": 3
   },
   "file_extension": ".py",
   "mimetype": "text/x-python",
   "name": "python",
   "nbconvert_exporter": "python",
   "pygments_lexer": "ipython3",
   "version": "3.12.7"
  }
 },
 "nbformat": 4,
 "nbformat_minor": 4
}
